{
 "cells": [
  {
   "cell_type": "markdown",
   "metadata": {},
   "source": [
    "<img src=\"https://bit.ly/2VnXWr2\" width=\"100\" align=\"left\"/>"
   ]
  },
  {
   "cell_type": "markdown",
   "metadata": {},
   "source": [
    "# Robin Hood\n",
    "Robin Hood has entered a competition to win the archery contest in Sherwood. With his bow and arrows, he needs to shoot on a target and try to hit as close as possible to the center.\n",
    "\n",
    "![](images/arrows.jpg)\n",
    "\n",
    "## Context\n",
    "In this challenge, the landing position of arrows shot by archers in the competition will be represented using 2-dimensional coordinates. \n",
    "\n",
    "In the 2-dimensional space, a point can be defined by a pair of values that correspond to the horizontal coordinate (x) and the vertical coordinate (y). For example, in our case, an arrow that hits the center of the archery target will land in position (0, 0) on the coordinate axes. \n",
    "\n",
    "The space can be divided into 4 zones (quadrants): Q1, Q2, Q3, Q4. If a point is in Q1, both its x coordinate and y coordinate are positive. Any point with a null x or y coordinate is considered to not belong to any quadrant. \n",
    "\n",
    "If you want to know more about the cartesian coordinate system, you can check this [link](https://en.wikipedia.org/wiki/Cartesian_coordinate_system). \n",
    "\n",
    "## Tools\n",
    "You don't necessarily need to use all the tools. Maybe you opt to use some of them or completely different ones, they are given to help you shape the exercise. Programming exercises can be solved in many different ways.\n",
    "* Data structures: **lists, sets, tuples**\n",
    "* Conditional statements: **if-elif-else**\n",
    "* Loop: **while/for**\n",
    "* Minimum (optional sorting)\n",
    "\n",
    "## Tasks\n",
    "Robin Hood has hit the following points:"
   ]
  },
  {
   "cell_type": "code",
   "execution_count": 1,
   "metadata": {},
   "outputs": [],
   "source": [
    "points = [(4, 5), (-0, 2), (4, 7), (1, -3), (3, -2), (4, 5), (3, 2), (5, 7), (-5, 7), (2, 2), (-4, 5), (0, -2),\n",
    "          (-4, 7), (-1, 3), (-3, 2), (-4, -5), (-3, 2), (5, 7), (5, 7), (2, 2), (9, 9), (-8, -9)]"
   ]
  },
  {
   "cell_type": "markdown",
   "metadata": {},
   "source": [
    "#### 1. Robin Hood is famous for hitting an arrow with another arrow. Find the coordinates of the points where an arrow hits another arrow."
   ]
  },
  {
   "cell_type": "code",
   "execution_count": 2,
   "metadata": {},
   "outputs": [
    {
     "name": "stdout",
     "output_type": "stream",
     "text": [
      "Outcome:\n",
      "(4, 5) - 2\n",
      "(5, 7) - 3\n",
      "(2, 2) - 2\n",
      "(-3, 2) - 2\n"
     ]
    }
   ],
   "source": [
    "def count(listOfTuple):\n",
    "    \n",
    "    flag = False \n",
    "    \n",
    "    # Appending duplicate elements in list\n",
    "    coll_list = []\n",
    "    coll_cnt = 0\n",
    "    for t in listOfTuple:\n",
    "            \n",
    "        # Check if duplicates exist\n",
    "        if t in coll_list:\n",
    "            flag = True\n",
    "            continue\n",
    "            \n",
    "        else:\n",
    "            coll_cnt = 0\n",
    "            for b in listOfTuple:\n",
    "                if b[0] ==t[0] and b[1] == t[1]:\n",
    "                    coll_cnt = coll_cnt + 1\n",
    "            \n",
    "        # To print count if duplicate of element exist\n",
    "        if(coll_cnt > 1):\n",
    "            print(t, \"-\", coll_cnt)\n",
    "        coll_list.append(t)\n",
    "\n",
    "    if flag == False:\n",
    "        print(\"No Duplicates\")\n",
    "        \n",
    "print(\"Outcome:\")\n",
    "count(points)"
   ]
  },
  {
   "cell_type": "markdown",
   "metadata": {},
   "source": [
    "#### 2. Calculate how many arrows have fallen in each quadrant. \n",
    "**Note**: the arrows that fall in the axis (x=0 or y=0) don't belong to any quadrant."
   ]
  },
  {
   "cell_type": "code",
   "execution_count": 3,
   "metadata": {},
   "outputs": [
    {
     "name": "stdout",
     "output_type": "stream",
     "text": [
      "Quadrant 1: 10 \n",
      "Quadrant 2: 6 \n",
      "Quadrant 3: 2 \n",
      "Quadrant 4: 2\n"
     ]
    }
   ],
   "source": [
    "def place_coordinates(listOfTuples):\n",
    "    quadrant_1 = 0\n",
    "    quadrant_2 = 0 \n",
    "    quadrant_3 = 0\n",
    "    quadrant_4 = 0\n",
    "    \n",
    "    for a, b in listOfTuples: \n",
    "        if a > 0 and b > 0:\n",
    "            quadrant_1 += 1\n",
    "        elif a < 0 and b > 0:\n",
    "            quadrant_2 += 1\n",
    "        elif a < 0 and b < 0:\n",
    "            quadrant_3 += 1\n",
    "        elif a > 0 and b < 0:\n",
    "            quadrant_4 += 1\n",
    "    print(\"Quadrant 1:\", quadrant_1,\"\\nQuadrant 2:\", quadrant_2,\"\\nQuadrant 3:\", quadrant_3, \"\\nQuadrant 4:\",quadrant_4)\n",
    "\n",
    "place_coordinates(points)"
   ]
  },
  {
   "cell_type": "markdown",
   "metadata": {},
   "source": [
    "#### 3. Find the point closest to the center. Calculate its distance to the center. \n",
    "Take into account that there might be more than one point at the minimum distance to the center.\n",
    "\n",
    "**Hint**: Use the Euclidean distance. You can find more information about it [here](https://en.wikipedia.org/wiki/Euclidean_distance).  \n",
    "**Hint**: Defining a function that calculates the distance to the center can help."
   ]
  },
  {
   "cell_type": "code",
   "execution_count": 11,
   "metadata": {},
   "outputs": [
    {
     "name": "stdout",
     "output_type": "stream",
     "text": [
      "Closest to the center: 2\n",
      "Outcome: [(0, 2), (0, -2)]\n"
     ]
    }
   ],
   "source": [
    "def closestCoor(listOfTuples):\n",
    "    listDistance = []\n",
    "    minimum_distance_list = []\n",
    "    minimum_distance = 0\n",
    "    \n",
    "    for x, y in listOfTuples:\n",
    "        c = x**2 + y**2\n",
    "        distance = round(c**0.5, 2)\n",
    "        listDistance.append(distance)\n",
    "    minimum_distance = min(listDistance)\n",
    "    \n",
    "    print(\"Closest to the center:\", int(minimum_distance))\n",
    "    \n",
    "    for x, y in listOfTuples:\n",
    "        c = x**2 + y**2\n",
    "        distance = round(c**0.5, 2)\n",
    "        if distance == minimum_distance:\n",
    "            minimum_distance_list.append((x, y))\n",
    "        else:\n",
    "            continue\n",
    "    \n",
    "    print(\"Outcome:\", minimum_distance_list)\n",
    "closestCoor(points)"
   ]
  },
  {
   "cell_type": "markdown",
   "metadata": {},
   "source": [
    "#### 4. If the archery target has a radius of 9, calculate the number of arrows that won't hit the target. \n",
    "**Hint**: Use the function created in step 3. "
   ]
  },
  {
   "cell_type": "code",
   "execution_count": 12,
   "metadata": {},
   "outputs": [
    {
     "name": "stdout",
     "output_type": "stream",
     "text": [
      "The number of missed shot with a radius of 9 wil be 2\n"
     ]
    }
   ],
   "source": [
    "radius = 9\n",
    "missed_shots = 0\n",
    "\n",
    "for x, y in points:\n",
    "        c = x**2 + y**2\n",
    "        distance = round(c**0.5, 2)\n",
    "        if distance - radius > 0:\n",
    "            missed_shots += 1\n",
    "            \n",
    "print(\"The number of missed shot with a radius of\", radius, \"wil be\", missed_shots)"
   ]
  },
  {
   "cell_type": "code",
   "execution_count": null,
   "metadata": {},
   "outputs": [],
   "source": [
    "'''Feedback:\n",
    "\n",
    "-Exercise 1: I like you define functions. I also see an improvement as you started commenting the code, very important, congrats \n",
    "on that. Altough you can find simpler ways to get to the solution, the code looks really clean and the outcome screening has a \n",
    "very elegant aspect. Good work. \n",
    "\n",
    "-Exercise 2: The result is corect and the code is simple and clean, congratulations!\n",
    "\n",
    "-Exercise 3: You got to the proper solution in a structured way, congratulations. If you want to do the extra mile I would suggest\n",
    "to use always variables that makes more sense in the context of the exercise instead of normal letters. Congrats!\n",
    "\n",
    "-Exercise 4: Correct solution and good presentation of the results, congrats!\n",
    "\n",
    "'''"
   ]
  }
 ],
 "metadata": {
  "kernelspec": {
   "display_name": "Python 3",
   "language": "python",
   "name": "python3"
  },
  "language_info": {
   "codemirror_mode": {
    "name": "ipython",
    "version": 3
   },
   "file_extension": ".py",
   "mimetype": "text/x-python",
   "name": "python",
   "nbconvert_exporter": "python",
   "pygments_lexer": "ipython3",
   "version": "3.7.6"
  }
 },
 "nbformat": 4,
 "nbformat_minor": 2
}
