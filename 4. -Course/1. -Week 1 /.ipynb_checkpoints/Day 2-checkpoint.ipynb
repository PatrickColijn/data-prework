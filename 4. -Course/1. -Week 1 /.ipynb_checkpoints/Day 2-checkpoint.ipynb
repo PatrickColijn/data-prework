{
 "cells": [
  {
   "cell_type": "markdown",
   "metadata": {},
   "source": [
    "Create game of tennis:\n",
    "\n",
    "Start score = (0 - 0)\n",
    "Create an input list of scores to decide who wins player 1 or 2 point\n",
    "\n",
    "While not having a winner: \n",
    "    Does player 1 or 2 score? \n",
    "    If Player scores and score = 0: + 15 \n",
    "    If player scores and score = 15: + 15\n",
    "    If player scores and score = 30: + 10 \n",
    "    If score is 40 check if other player score is 40\n",
    "        if no ->  Win game \n",
    "        if ad -> return to 40\n",
    "        if yes -> Ad\n",
    "\n",
    "    If player scores and score is = ad:\n",
    "        Player wins set! "
   ]
  },
  {
   "cell_type": "code",
   "execution_count": 1,
   "metadata": {},
   "outputs": [],
   "source": [
    "#Game of tennis \n",
    "Startscore = (0,0)\n",
    "list_of_scores = [(1,0),(0, 1)] # list of score is compiled of tuples that define win or lose for player 1 or 2\n",
    "\n",
    "for player1, player2 in list_of_scores: \n",
    "    if player1 > player2: # If player 1 > big \n",
    "        for "
   ]
  },
  {
   "cell_type": "code",
   "execution_count": null,
   "metadata": {},
   "outputs": [],
   "source": [
    "# Start with constant variables\n",
    "SA = 0 \n",
    "SB = 0\n",
    "WINNER = []\n",
    "\n",
    "# Define a while loop to last as long as there is no winner\n",
    "while WINNER == []:\n",
    "    play point \n",
    "    if point for A:\n",
    "        SA += 1 \n",
    "    else:\n",
    "        SB += 1\n",
    "        \n",
    "# Check if there is a winner\n",
    "    if SA > 4 and SB "
   ]
  },
  {
   "cell_type": "code",
   "execution_count": null,
   "metadata": {},
   "outputs": [],
   "source": []
  }
 ],
 "metadata": {
  "kernelspec": {
   "display_name": "Python 3",
   "language": "python",
   "name": "python3"
  },
  "language_info": {
   "codemirror_mode": {
    "name": "ipython",
    "version": 3
   },
   "file_extension": ".py",
   "mimetype": "text/x-python",
   "name": "python",
   "nbconvert_exporter": "python",
   "pygments_lexer": "ipython3",
   "version": "3.7.6"
  }
 },
 "nbformat": 4,
 "nbformat_minor": 2
}
